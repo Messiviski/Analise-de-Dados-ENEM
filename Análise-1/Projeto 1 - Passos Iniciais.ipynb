{
 "cells": [
  {
   "cell_type": "markdown",
   "metadata": {},
   "source": [
    "# Participantes: \n",
    "### Erick Araújo Silva, João Paulo do Nascimento Borges e José Messias Marinho Olimpio "
   ]
  },
  {
   "cell_type": "code",
   "execution_count": 2,
   "metadata": {},
   "outputs": [],
   "source": [
    "import pandas as pd\n",
    "\n",
    "dados = pd.read_csv(\"../MICRODADOS_ENEM_2019_SAMPLE_43278.csv\")"
   ]
  },
  {
   "cell_type": "markdown",
   "metadata": {},
   "source": [
    "#### Os dados são uma amostra do dataset do ENEM 2019 que foram obtidos atr"
   ]
  },
  {
   "cell_type": "markdown",
   "metadata": {},
   "source": [
    "## Dentro da amostra quantos candidatos fizeram o enem com idade de 13 anos e de onde eles são e qual sexo?"
   ]
  },
  {
   "cell_type": "code",
   "execution_count": 64,
   "metadata": {},
   "outputs": [
    {
     "data": {
      "text/html": [
       "<div>\n",
       "<style scoped>\n",
       "    .dataframe tbody tr th:only-of-type {\n",
       "        vertical-align: middle;\n",
       "    }\n",
       "\n",
       "    .dataframe tbody tr th {\n",
       "        vertical-align: top;\n",
       "    }\n",
       "\n",
       "    .dataframe thead th {\n",
       "        text-align: right;\n",
       "    }\n",
       "</style>\n",
       "<table border=\"1\" class=\"dataframe\">\n",
       "  <thead>\n",
       "    <tr style=\"text-align: right;\">\n",
       "      <th></th>\n",
       "      <th>NO_MUNICIPIO_RESIDENCIA</th>\n",
       "      <th>SG_UF_RESIDENCIA</th>\n",
       "      <th>TP_SEXO</th>\n",
       "    </tr>\n",
       "  </thead>\n",
       "  <tbody>\n",
       "    <tr>\n",
       "      <th>57359</th>\n",
       "      <td>Atibaia</td>\n",
       "      <td>SP</td>\n",
       "      <td>F</td>\n",
       "    </tr>\n",
       "    <tr>\n",
       "      <th>95630</th>\n",
       "      <td>Rondonópolis</td>\n",
       "      <td>MT</td>\n",
       "      <td>M</td>\n",
       "    </tr>\n",
       "    <tr>\n",
       "      <th>98197</th>\n",
       "      <td>Macapá</td>\n",
       "      <td>AP</td>\n",
       "      <td>M</td>\n",
       "    </tr>\n",
       "    <tr>\n",
       "      <th>116501</th>\n",
       "      <td>Jacobina</td>\n",
       "      <td>BA</td>\n",
       "      <td>M</td>\n",
       "    </tr>\n",
       "  </tbody>\n",
       "</table>\n",
       "</div>"
      ],
      "text/plain": [
       "       NO_MUNICIPIO_RESIDENCIA SG_UF_RESIDENCIA TP_SEXO\n",
       "57359                  Atibaia               SP       F\n",
       "95630             Rondonópolis               MT       M\n",
       "98197                   Macapá               AP       M\n",
       "116501                Jacobina               BA       M"
      ]
     },
     "execution_count": 64,
     "metadata": {},
     "output_type": "execute_result"
    }
   ],
   "source": [
    "dados.query(\"NU_IDADE == 13\")[[\"NO_MUNICIPIO_RESIDENCIA\", \"SG_UF_RESIDENCIA\", \"TP_SEXO\"]]"
   ]
  },
  {
   "cell_type": "markdown",
   "metadata": {},
   "source": [
    "## Quantos pessoas com idade acima de 60 anos fizeram o enem?"
   ]
  },
  {
   "cell_type": "code",
   "execution_count": 7,
   "metadata": {},
   "outputs": [
    {
     "data": {
      "text/plain": [
       "301"
      ]
     },
     "execution_count": 7,
     "metadata": {},
     "output_type": "execute_result"
    }
   ],
   "source": [
    "prova_idoso = dados.query(\"NU_IDADE >= 60\")\n",
    "prova_idoso[\"NU_IDADE\"].count()"
   ]
  },
  {
   "cell_type": "markdown",
   "metadata": {},
   "source": [
    "#### 301 Pessoas da amostra fizeram a prova do enem 2019"
   ]
  },
  {
   "cell_type": "code",
   "execution_count": 65,
   "metadata": {},
   "outputs": [
    {
     "data": {
      "text/plain": [
       "<AxesSubplot:title={'center':'Porcentagem participantes >= 60'}>"
      ]
     },
     "execution_count": 65,
     "metadata": {},
     "output_type": "execute_result"
    },
    {
     "data": {
      "image/png": "[encoded data removed]",
      "text/plain": [
       "<Figure size 576x432 with 1 Axes>"
      ]
     },
     "metadata": {
      "needs_background": "light"
     },
     "output_type": "display_data"
    }
   ],
   "source": [
    "prova_idoso[\"SG_UF_RESIDENCIA\"].value_counts(normalize=True).plot.bar(figsize=(8, 6), title=\"Porcentagem participantes >= 60\")"
   ]
  },
  {
   "cell_type": "markdown",
   "metadata": {},
   "source": [
    "## Quantos participantes da amostra são da Paraíba?"
   ]
  },
  {
   "cell_type": "code",
   "execution_count": 66,
   "metadata": {},
   "outputs": [
    {
     "data": {
      "text/html": [
       "<div>\n",
       "<style scoped>\n",
       "    .dataframe tbody tr th:only-of-type {\n",
       "        vertical-align: middle;\n",
       "    }\n",
       "\n",
       "    .dataframe tbody tr th {\n",
       "        vertical-align: top;\n",
       "    }\n",
       "\n",
       "    .dataframe thead th {\n",
       "        text-align: right;\n",
       "    }\n",
       "</style>\n",
       "<table border=\"1\" class=\"dataframe\">\n",
       "  <thead>\n",
       "    <tr style=\"text-align: right;\">\n",
       "      <th></th>\n",
       "      <th>SG_UF_RESIDENCIA</th>\n",
       "      <th>NO_MUNICIPIO_RESIDENCIA</th>\n",
       "    </tr>\n",
       "  </thead>\n",
       "  <tbody>\n",
       "    <tr>\n",
       "      <th>8429</th>\n",
       "      <td>PB</td>\n",
       "      <td>Pedras de Fogo</td>\n",
       "    </tr>\n",
       "    <tr>\n",
       "      <th>8598</th>\n",
       "      <td>PB</td>\n",
       "      <td>Santa Cecília</td>\n",
       "    </tr>\n",
       "    <tr>\n",
       "      <th>8699</th>\n",
       "      <td>PB</td>\n",
       "      <td>Pedras de Fogo</td>\n",
       "    </tr>\n",
       "    <tr>\n",
       "      <th>9007</th>\n",
       "      <td>PB</td>\n",
       "      <td>Juripiranga</td>\n",
       "    </tr>\n",
       "    <tr>\n",
       "      <th>9435</th>\n",
       "      <td>PB</td>\n",
       "      <td>Umbuzeiro</td>\n",
       "    </tr>\n",
       "    <tr>\n",
       "      <th>...</th>\n",
       "      <td>...</td>\n",
       "      <td>...</td>\n",
       "    </tr>\n",
       "    <tr>\n",
       "      <th>127349</th>\n",
       "      <td>PB</td>\n",
       "      <td>Piancó</td>\n",
       "    </tr>\n",
       "    <tr>\n",
       "      <th>127368</th>\n",
       "      <td>PB</td>\n",
       "      <td>João Pessoa</td>\n",
       "    </tr>\n",
       "    <tr>\n",
       "      <th>127369</th>\n",
       "      <td>PB</td>\n",
       "      <td>Pombal</td>\n",
       "    </tr>\n",
       "    <tr>\n",
       "      <th>127370</th>\n",
       "      <td>PB</td>\n",
       "      <td>São Bento</td>\n",
       "    </tr>\n",
       "    <tr>\n",
       "      <th>127371</th>\n",
       "      <td>PB</td>\n",
       "      <td>Fagundes</td>\n",
       "    </tr>\n",
       "  </tbody>\n",
       "</table>\n",
       "<p>3690 rows × 2 columns</p>\n",
       "</div>"
      ],
      "text/plain": [
       "       SG_UF_RESIDENCIA NO_MUNICIPIO_RESIDENCIA\n",
       "8429                 PB          Pedras de Fogo\n",
       "8598                 PB           Santa Cecília\n",
       "8699                 PB          Pedras de Fogo\n",
       "9007                 PB             Juripiranga\n",
       "9435                 PB               Umbuzeiro\n",
       "...                 ...                     ...\n",
       "127349               PB                  Piancó\n",
       "127368               PB             João Pessoa\n",
       "127369               PB                  Pombal\n",
       "127370               PB               São Bento\n",
       "127371               PB                Fagundes\n",
       "\n",
       "[3690 rows x 2 columns]"
      ]
     },
     "execution_count": 66,
     "metadata": {},
     "output_type": "execute_result"
    }
   ],
   "source": [
    "dados.query(\"SG_UF_RESIDENCIA == 'PB'\")[[\"SG_UF_RESIDENCIA\", \"NO_MUNICIPIO_RESIDENCIA\"]]"
   ]
  },
  {
   "cell_type": "code",
   "execution_count": 6,
   "metadata": {},
   "outputs": [
    {
     "data": {
      "text/plain": [
       "3690"
      ]
     },
     "execution_count": 6,
     "metadata": {},
     "output_type": "execute_result"
    }
   ],
   "source": [
    "dados.query(\"SG_UF_RESIDENCIA == 'PB'\")[\"SG_UF_RESIDENCIA\"].count()"
   ]
  },
  {
   "cell_type": "markdown",
   "metadata": {},
   "source": [
    "#### O valor total de participantes da paraíba que estão na amostra é de 3690"
   ]
  }
 ],
 "metadata": {
  "kernelspec": {
   "display_name": "Python 3",
   "language": "python",
   "name": "python3"
  },
  "language_info": {
   "codemirror_mode": {
    "name": "ipython",
    "version": 3
   },
   "file_extension": ".py",
   "mimetype": "text/x-python",
   "name": "python",
   "nbconvert_exporter": "python",
   "pygments_lexer": "ipython3",
   "version": "3.8.5"
  }
 },
 "nbformat": 4,
 "nbformat_minor": 4
}
